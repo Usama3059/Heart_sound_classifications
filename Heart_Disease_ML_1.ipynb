{
  "nbformat": 4,
  "nbformat_minor": 0,
  "metadata": {
    "colab": {
      "name": "Heart Disease ML_1",
      "provenance": [],
      "collapsed_sections": [],
      "toc_visible": true
    },
    "kernelspec": {
      "display_name": "Python 3",
      "name": "python3"
    }
  },
  "cells": [
    {
      "cell_type": "code",
      "metadata": {
        "id": "1XVsiuxv7UGc",
        "colab_type": "code",
        "colab": {}
      },
      "source": [
        "import pandas as pd\n",
        "from  sklearn.model_selection import train_test_split\n",
        "from sklearn.preprocessing import LabelEncoder\n",
        "import librosa \n",
        "import librosa.display as dis\n",
        "import os\n",
        "import matplotlib.pyplot as plt\n",
        "import glob\n",
        "import numpy as np\n",
        "\n",
        "\n"
      ],
      "execution_count": 0,
      "outputs": []
    },
    {
      "cell_type": "code",
      "metadata": {
        "id": "IVkxjvQMgujM",
        "colab_type": "code",
        "outputId": "84fb5650-a3ef-4cf8-a8e2-27ba43b45e49",
        "colab": {
          "base_uri": "https://localhost:8080/",
          "height": 128
        }
      },
      "source": [
        "from google.colab import drive\n",
        "drive.mount('/content/drive/')"
      ],
      "execution_count": 0,
      "outputs": [
        {
          "output_type": "stream",
          "text": [
            "Go to this URL in a browser: https://accounts.google.com/o/oauth2/auth?client_id=947318989803-6bn6qk8qdgf4n4g3pfee6491hc0brc4i.apps.googleusercontent.com&redirect_uri=urn%3aietf%3awg%3aoauth%3a2.0%3aoob&response_type=code&scope=email%20https%3a%2f%2fwww.googleapis.com%2fauth%2fdocs.test%20https%3a%2f%2fwww.googleapis.com%2fauth%2fdrive%20https%3a%2f%2fwww.googleapis.com%2fauth%2fdrive.photos.readonly%20https%3a%2f%2fwww.googleapis.com%2fauth%2fpeopleapi.readonly\n",
            "\n",
            "Enter your authorization code:\n",
            "··········\n",
            "Mounted at /content/drive/\n"
          ],
          "name": "stdout"
        }
      ]
    },
    {
      "cell_type": "code",
      "metadata": {
        "id": "IKgCIhbS8yMr",
        "colab_type": "code",
        "outputId": "f10ea0aa-dee0-4097-b700-99b90eb7f437",
        "colab": {
          "base_uri": "https://localhost:8080/",
          "height": 90
        }
      },
      "source": [
        "df = pd.read_csv('/content/drive/My Drive/Colab Notebooks/HEART DATA /heartbeat-sounds/set_b.csv')\n",
        "print(df['label'].value_counts())"
      ],
      "execution_count": 0,
      "outputs": [
        {
          "output_type": "stream",
          "text": [
            "normal        320\n",
            "murmur         95\n",
            "extrastole     46\n",
            "Name: label, dtype: int64\n"
          ],
          "name": "stdout"
        }
      ]
    },
    {
      "cell_type": "code",
      "metadata": {
        "id": "b0LIPqRoMxVU",
        "colab_type": "code",
        "outputId": "744632d1-3bcc-4f4f-d768-faa99037094e",
        "colab": {
          "base_uri": "https://localhost:8080/",
          "height": 430
        }
      },
      "source": [
        "plt.figure(figsize = (12,6))\n",
        "df['label'].value_counts().plot(kind = 'bar' , title = ' Distribution' )\n",
        "plt.show()"
      ],
      "execution_count": 0,
      "outputs": [
        {
          "output_type": "display_data",
          "data": {
            "image/png": "[encoded data removed]",
            "text/plain": [
              "<Figure size 864x432 with 1 Axes>"
            ]
          },
          "metadata": {
            "tags": []
          }
        }
      ]
    },
    {
      "cell_type": "code",
      "metadata": {
        "id": "3WTlqI9ajpuD",
        "colab_type": "code",
        "outputId": "5375ba90-a8d0-4ea6-84ba-f5e8a1e971fc",
        "colab": {
          "base_uri": "https://localhost:8080/",
          "height": 54
        }
      },
      "source": [
        "train , test = train_test_split(df, test_size = 0.2 , random_state = 30)\n",
        "\n",
        "print(len(train))\n",
        "print(len(test))"
      ],
      "execution_count": 0,
      "outputs": [
        {
          "output_type": "stream",
          "text": [
            "323\n",
            "81\n"
          ],
          "name": "stdout"
        }
      ]
    },
    {
      "cell_type": "markdown",
      "metadata": {
        "id": "QXP3yVqzaO5l",
        "colab_type": "text"
      },
      "source": [
        "**WE WILL CREATE OUR OWN DATASET**"
      ]
    },
    {
      "cell_type": "code",
      "metadata": {
        "id": "7t08XyY6cpvV",
        "colab_type": "code",
        "outputId": "8ba446c0-bbb1-4af9-87ac-62494b95e3ba",
        "colab": {
          "base_uri": "https://localhost:8080/",
          "height": 198
        }
      },
      "source": [
        "#NOw creating our own  Dataset\n",
        "\n",
        "df = []\n",
        "\n",
        "for folder in [\"/content/drive/My Drive/Colab Notebooks/HEART DATA /heartbeat-sounds/set_a/**\",\n",
        "               \"/content/drive/My Drive/Colab Notebooks/HEART DATA /heartbeat-sounds/set_b/**\"]:\n",
        "  for fname in glob.iglob(folder):\n",
        "    if os.path.exists(fname):\n",
        "      label = os.path.basename(fname).split(\"_\")[0]\n",
        "      if librosa.get_duration(filename=fname)>=4:\n",
        "        if label not in [\"Aunlabelledtest\",\"Bunlabelledtest\"]:\n",
        "          df.append(\n",
        "              {\n",
        "                  \"filename \" : fname,\n",
        "               \"label\" : label \n",
        "              })\n",
        "data=pd.DataFrame(df)\n",
        "data.head()"
      ],
      "execution_count": 0,
      "outputs": [
        {
          "output_type": "execute_result",
          "data": {
            "text/html": [
              "<div>\n",
              "<style scoped>\n",
              "    .dataframe tbody tr th:only-of-type {\n",
              "        vertical-align: middle;\n",
              "    }\n",
              "\n",
              "    .dataframe tbody tr th {\n",
              "        vertical-align: top;\n",
              "    }\n",
              "\n",
              "    .dataframe thead th {\n",
              "        text-align: right;\n",
              "    }\n",
              "</style>\n",
              "<table border=\"1\" class=\"dataframe\">\n",
              "  <thead>\n",
              "    <tr style=\"text-align: right;\">\n",
              "      <th></th>\n",
              "      <th>filename</th>\n",
              "      <th>label</th>\n",
              "    </tr>\n",
              "  </thead>\n",
              "  <tbody>\n",
              "    <tr>\n",
              "      <th>0</th>\n",
              "      <td>/content/drive/My Drive/Colab Notebooks/HEART ...</td>\n",
              "      <td>artifact</td>\n",
              "    </tr>\n",
              "    <tr>\n",
              "      <th>1</th>\n",
              "      <td>/content/drive/My Drive/Colab Notebooks/HEART ...</td>\n",
              "      <td>artifact</td>\n",
              "    </tr>\n",
              "    <tr>\n",
              "      <th>2</th>\n",
              "      <td>/content/drive/My Drive/Colab Notebooks/HEART ...</td>\n",
              "      <td>artifact</td>\n",
              "    </tr>\n",
              "    <tr>\n",
              "      <th>3</th>\n",
              "      <td>/content/drive/My Drive/Colab Notebooks/HEART ...</td>\n",
              "      <td>artifact</td>\n",
              "    </tr>\n",
              "    <tr>\n",
              "      <th>4</th>\n",
              "      <td>/content/drive/My Drive/Colab Notebooks/HEART ...</td>\n",
              "      <td>artifact</td>\n",
              "    </tr>\n",
              "  </tbody>\n",
              "</table>\n",
              "</div>"
            ],
            "text/plain": [
              "                                           filename      label\n",
              "0  /content/drive/My Drive/Colab Notebooks/HEART ...  artifact\n",
              "1  /content/drive/My Drive/Colab Notebooks/HEART ...  artifact\n",
              "2  /content/drive/My Drive/Colab Notebooks/HEART ...  artifact\n",
              "3  /content/drive/My Drive/Colab Notebooks/HEART ...  artifact\n",
              "4  /content/drive/My Drive/Colab Notebooks/HEART ...  artifact"
            ]
          },
          "metadata": {
            "tags": []
          },
          "execution_count": 6
        }
      ]
    },
    {
      "cell_type": "code",
      "metadata": {
        "id": "5Ak7qTLGbSf5",
        "colab_type": "code",
        "outputId": "8c328327-ba87-443b-fc97-68c3b8957ca9",
        "colab": {
          "base_uri": "https://localhost:8080/",
          "height": 430
        }
      },
      "source": [
        "plt.figure(figsize=(12,6))\n",
        "data['label'].value_counts().plot(kind = \"bar\" , title = \" Counts of label\")\n",
        "plt.show()"
      ],
      "execution_count": 0,
      "outputs": [
        {
          "output_type": "display_data",
          "data": {
            "image/png": "[encoded data removed]",
            "text/plain": [
              "<Figure size 864x432 with 1 Axes>"
            ]
          },
          "metadata": {
            "tags": []
          }
        }
      ]
    },
    {
      "cell_type": "code",
      "metadata": {
        "id": "HwxYh_2ZmVx6",
        "colab_type": "code",
        "outputId": "8762d05b-d93d-4442-f041-9ff69f13b632",
        "colab": {
          "base_uri": "https://localhost:8080/",
          "height": 198
        }
      },
      "source": [
        "from sklearn.utils import shuffle\n",
        "data =shuffle(data, random_state =40)\n",
        "data.head()"
      ],
      "execution_count": 0,
      "outputs": [
        {
          "output_type": "execute_result",
          "data": {
            "text/html": [
              "<div>\n",
              "<style scoped>\n",
              "    .dataframe tbody tr th:only-of-type {\n",
              "        vertical-align: middle;\n",
              "    }\n",
              "\n",
              "    .dataframe tbody tr th {\n",
              "        vertical-align: top;\n",
              "    }\n",
              "\n",
              "    .dataframe thead th {\n",
              "        text-align: right;\n",
              "    }\n",
              "</style>\n",
              "<table border=\"1\" class=\"dataframe\">\n",
              "  <thead>\n",
              "    <tr style=\"text-align: right;\">\n",
              "      <th></th>\n",
              "      <th>filename</th>\n",
              "      <th>label</th>\n",
              "    </tr>\n",
              "  </thead>\n",
              "  <tbody>\n",
              "    <tr>\n",
              "      <th>28</th>\n",
              "      <td>/content/drive/My Drive/Colab Notebooks/HEART ...</td>\n",
              "      <td>artifact</td>\n",
              "    </tr>\n",
              "    <tr>\n",
              "      <th>386</th>\n",
              "      <td>/content/drive/My Drive/Colab Notebooks/HEART ...</td>\n",
              "      <td>normal</td>\n",
              "    </tr>\n",
              "    <tr>\n",
              "      <th>195</th>\n",
              "      <td>/content/drive/My Drive/Colab Notebooks/HEART ...</td>\n",
              "      <td>murmur</td>\n",
              "    </tr>\n",
              "    <tr>\n",
              "      <th>44</th>\n",
              "      <td>/content/drive/My Drive/Colab Notebooks/HEART ...</td>\n",
              "      <td>extrahls</td>\n",
              "    </tr>\n",
              "    <tr>\n",
              "      <th>333</th>\n",
              "      <td>/content/drive/My Drive/Colab Notebooks/HEART ...</td>\n",
              "      <td>normal</td>\n",
              "    </tr>\n",
              "  </tbody>\n",
              "</table>\n",
              "</div>"
            ],
            "text/plain": [
              "                                             filename      label\n",
              "28   /content/drive/My Drive/Colab Notebooks/HEART ...  artifact\n",
              "386  /content/drive/My Drive/Colab Notebooks/HEART ...    normal\n",
              "195  /content/drive/My Drive/Colab Notebooks/HEART ...    murmur\n",
              "44   /content/drive/My Drive/Colab Notebooks/HEART ...  extrahls\n",
              "333  /content/drive/My Drive/Colab Notebooks/HEART ...    normal"
            ]
          },
          "metadata": {
            "tags": []
          },
          "execution_count": 26
        }
      ]
    },
    {
      "cell_type": "markdown",
      "metadata": {
        "id": "VA5FzW7CcPBm",
        "colab_type": "text"
      },
      "source": [
        "**FEATURE ENGINEERING**"
      ]
    },
    {
      "cell_type": "code",
      "metadata": {
        "id": "kqBwZMMtcTSD",
        "colab_type": "code",
        "colab": {}
      },
      "source": [
        "def features(path):\n",
        "\n",
        "  f,samp_rate = librosa.load(path=path , duration=4)\n",
        "  mfccs = librosa.feature.mfcc(y=f,sr=samp_rate,n_mfcc=50)\n",
        "  return mfccs"
      ],
      "execution_count": 0,
      "outputs": []
    },
    {
      "cell_type": "code",
      "metadata": {
        "id": "3y0VIUFMdCwh",
        "colab_type": "code",
        "outputId": "0042bc6a-7061-4abb-b739-36e5a0e3b275",
        "colab": {
          "base_uri": "https://localhost:8080/",
          "height": 54
        }
      },
      "source": [
        "train, test = train_test_split(data, test_size=0.2, random_state=42)\n",
        "\n",
        "print(\"Train: \", len(train))\n",
        "print(\"Test: \", len(test))"
      ],
      "execution_count": 0,
      "outputs": [
        {
          "output_type": "stream",
          "text": [
            "Train:  323\n",
            "Test:  81\n"
          ],
          "name": "stdout"
        }
      ]
    },
    {
      "cell_type": "code",
      "metadata": {
        "id": "jbRNhMvPopWA",
        "colab_type": "code",
        "outputId": "0443d8dc-f598-4eb9-bcb1-fb13b14f7a15",
        "colab": {
          "base_uri": "https://localhost:8080/",
          "height": 198
        }
      },
      "source": [
        "test.head()"
      ],
      "execution_count": 0,
      "outputs": [
        {
          "output_type": "execute_result",
          "data": {
            "text/html": [
              "<div>\n",
              "<style scoped>\n",
              "    .dataframe tbody tr th:only-of-type {\n",
              "        vertical-align: middle;\n",
              "    }\n",
              "\n",
              "    .dataframe tbody tr th {\n",
              "        vertical-align: top;\n",
              "    }\n",
              "\n",
              "    .dataframe thead th {\n",
              "        text-align: right;\n",
              "    }\n",
              "</style>\n",
              "<table border=\"1\" class=\"dataframe\">\n",
              "  <thead>\n",
              "    <tr style=\"text-align: right;\">\n",
              "      <th></th>\n",
              "      <th>filename</th>\n",
              "      <th>label</th>\n",
              "    </tr>\n",
              "  </thead>\n",
              "  <tbody>\n",
              "    <tr>\n",
              "      <th>116</th>\n",
              "      <td>/content/drive/My Drive/Colab Notebooks/HEART ...</td>\n",
              "      <td>normal</td>\n",
              "    </tr>\n",
              "    <tr>\n",
              "      <th>288</th>\n",
              "      <td>/content/drive/My Drive/Colab Notebooks/HEART ...</td>\n",
              "      <td>normal</td>\n",
              "    </tr>\n",
              "    <tr>\n",
              "      <th>217</th>\n",
              "      <td>/content/drive/My Drive/Colab Notebooks/HEART ...</td>\n",
              "      <td>normal</td>\n",
              "    </tr>\n",
              "    <tr>\n",
              "      <th>39</th>\n",
              "      <td>/content/drive/My Drive/Colab Notebooks/HEART ...</td>\n",
              "      <td>artifact</td>\n",
              "    </tr>\n",
              "    <tr>\n",
              "      <th>277</th>\n",
              "      <td>/content/drive/My Drive/Colab Notebooks/HEART ...</td>\n",
              "      <td>normal</td>\n",
              "    </tr>\n",
              "  </tbody>\n",
              "</table>\n",
              "</div>"
            ],
            "text/plain": [
              "                                             filename      label\n",
              "116  /content/drive/My Drive/Colab Notebooks/HEART ...    normal\n",
              "288  /content/drive/My Drive/Colab Notebooks/HEART ...    normal\n",
              "217  /content/drive/My Drive/Colab Notebooks/HEART ...    normal\n",
              "39   /content/drive/My Drive/Colab Notebooks/HEART ...  artifact\n",
              "277  /content/drive/My Drive/Colab Notebooks/HEART ...    normal"
            ]
          },
          "metadata": {
            "tags": []
          },
          "execution_count": 29
        }
      ]
    },
    {
      "cell_type": "code",
      "metadata": {
        "id": "m76fUBzhzt3v",
        "colab_type": "code",
        "colab": {}
      },
      "source": [
        ""
      ],
      "execution_count": 0,
      "outputs": []
    },
    {
      "cell_type": "code",
      "metadata": {
        "id": "sr05JG4fhHUU",
        "colab_type": "code",
        "outputId": "551ad565-c9cf-4efc-db8a-ee6302b95295",
        "colab": {
          "base_uri": "https://localhost:8080/",
          "height": 54
        }
      },
      "source": [
        "xtest=[]\n",
        "xtrain = []\n",
        "train = data.rename(columns={'filename ': 'filename'})\n",
        "test = test.rename(columns={'filename ': 'filename'})\n",
        "\n",
        "for i in range(len(train)):\n",
        "  xtrain.append(features(train.filename.iloc[i]))\n",
        "for i in range(len(test)):\n",
        "\n",
        "  xtest.append(features(test[\"filename\"].iloc[i]))\n",
        "    \n",
        "\n",
        "xtest=np.asarray(xtest)\n",
        "xtrain = np.asarray(xtrain)\n",
        "\n",
        "print(xtest.shape)\n",
        "print(xtrain.shape)"
      ],
      "execution_count": 0,
      "outputs": [
        {
          "output_type": "stream",
          "text": [
            "(81, 50, 173)\n",
            "(404, 50, 173)\n"
          ],
          "name": "stdout"
        }
      ]
    },
    {
      "cell_type": "markdown",
      "metadata": {
        "id": "w16gE8NL7CM1",
        "colab_type": "text"
      },
      "source": [
        "**MFCC**"
      ]
    },
    {
      "cell_type": "code",
      "metadata": {
        "id": "3AnaLorMyIx1",
        "colab_type": "code",
        "outputId": "fded8d0f-95d7-4d58-c00a-d692d43f7e45",
        "colab": {
          "base_uri": "https://localhost:8080/",
          "height": 295
        }
      },
      "source": [
        "librosa.display.specshow(xtrain[0],x_axis='time')\n",
        "plt.title(\"MFCC\")\n",
        "plt.show()"
      ],
      "execution_count": 0,
      "outputs": [
        {
          "output_type": "display_data",
          "data": {
            "image/png": "[encoded data removed]",
            "text/plain": [
              "<Figure size 432x288 with 1 Axes>"
            ]
          },
          "metadata": {
            "tags": []
          }
        }
      ]
    },
    {
      "cell_type": "markdown",
      "metadata": {
        "id": "e5vYzVil7GQc",
        "colab_type": "text"
      },
      "source": [
        "**LABEL ENCODING**"
      ]
    },
    {
      "cell_type": "code",
      "metadata": {
        "id": "UeBQ098Czhbi",
        "colab_type": "code",
        "outputId": "bdd81d31-7527-4dac-b19d-d805f9f18b99",
        "colab": {
          "base_uri": "https://localhost:8080/",
          "height": 54
        }
      },
      "source": [
        "encoder = LabelEncoder()\n",
        "encoder.fit(train.label)\n",
        "\n",
        "ytrain = encoder.transform(train.label)\n",
        "ytest = encoder.transform(test.label)\n",
        "encoder.classes_"
      ],
      "execution_count": 0,
      "outputs": [
        {
          "output_type": "execute_result",
          "data": {
            "text/plain": [
              "array(['artifact', 'extrahls', 'extrastole', 'murmur', 'normal'],\n",
              "      dtype=object)"
            ]
          },
          "metadata": {
            "tags": []
          },
          "execution_count": 14
        }
      ]
    },
    {
      "cell_type": "code",
      "metadata": {
        "id": "1EH-zS894aNp",
        "colab_type": "code",
        "outputId": "1e0d04d0-b448-4381-9a80-d488cc40bdfa",
        "colab": {
          "base_uri": "https://localhost:8080/",
          "height": 118
        }
      },
      "source": [
        "from keras.utils import to_categorical\n",
        "ytrain = to_categorical(ytrain)\n",
        "ytest = to_categorical(ytest)\n",
        "ytest.shape"
      ],
      "execution_count": 0,
      "outputs": [
        {
          "output_type": "stream",
          "text": [
            "Using TensorFlow backend.\n"
          ],
          "name": "stderr"
        },
        {
          "output_type": "display_data",
          "data": {
            "text/html": [
              "<p style=\"color: red;\">\n",
              "The default version of TensorFlow in Colab will soon switch to TensorFlow 2.x.<br>\n",
              "We recommend you <a href=\"https://www.tensorflow.org/guide/migrate\" target=\"_blank\">upgrade</a> now \n",
              "or ensure your notebook will continue to use TensorFlow 1.x via the <code>%tensorflow_version 1.x</code> magic:\n",
              "<a href=\"https://colab.research.google.com/notebooks/tensorflow_version.ipynb\" target=\"_blank\">more info</a>.</p>\n"
            ],
            "text/plain": [
              "<IPython.core.display.HTML object>"
            ]
          },
          "metadata": {
            "tags": []
          }
        },
        {
          "output_type": "execute_result",
          "data": {
            "text/plain": [
              "(81, 5)"
            ]
          },
          "metadata": {
            "tags": []
          },
          "execution_count": 15
        }
      ]
    },
    {
      "cell_type": "code",
      "metadata": {
        "id": "1GI37bAHCKbg",
        "colab_type": "code",
        "outputId": "b8969a3f-acfd-490a-8a17-a55ff04146cd",
        "colab": {
          "base_uri": "https://localhost:8080/",
          "height": 35
        }
      },
      "source": [
        "xtrain.shape"
      ],
      "execution_count": 0,
      "outputs": [
        {
          "output_type": "execute_result",
          "data": {
            "text/plain": [
              "(404, 50, 173)"
            ]
          },
          "metadata": {
            "tags": []
          },
          "execution_count": 30
        }
      ]
    },
    {
      "cell_type": "code",
      "metadata": {
        "id": "7zKD7G4A-HYH",
        "colab_type": "code",
        "outputId": "d78cc667-7788-4b27-ea2e-dbc11a22e353",
        "colab": {
          "base_uri": "https://localhost:8080/",
          "height": 35
        }
      },
      "source": [
        "xtrain =xtrain.reshape(xtrain.shape[0],xtrain.shape[1],xtrain.shape[2],1)\n",
        "\n",
        "xtest =xtest.reshape(xtest.shape[0],xtest.shape[1],xtest.shape[2],1)\n",
        "\n",
        "xtrain.shape"
      ],
      "execution_count": 0,
      "outputs": [
        {
          "output_type": "execute_result",
          "data": {
            "text/plain": [
              "(404, 50, 173, 1)"
            ]
          },
          "metadata": {
            "tags": []
          },
          "execution_count": 33
        }
      ]
    },
    {
      "cell_type": "code",
      "metadata": {
        "id": "izlN9YIICJis",
        "colab_type": "code",
        "colab": {}
      },
      "source": [
        ""
      ],
      "execution_count": 0,
      "outputs": []
    },
    {
      "cell_type": "markdown",
      "metadata": {
        "id": "41e8JsIvDFLn",
        "colab_type": "text"
      },
      "source": [
        "**DEEP LEARNING MODEL**"
      ]
    },
    {
      "cell_type": "code",
      "metadata": {
        "id": "3ND5a5MV_ex8",
        "colab_type": "code",
        "outputId": "fe9e3a2a-846e-4847-d568-648f10b126ff",
        "colab": {
          "base_uri": "https://localhost:8080/",
          "height": 672
        }
      },
      "source": [
        "import keras\n",
        "from keras.layers import Conv2D,Convolution2D,Flatten,Dense,Dropout,MaxPooling2D,GlobalAveragePooling2D\n",
        "from keras.models import Sequential\n",
        "model = Sequential()\n",
        "model.add(Conv2D(filters=16, kernel_size=2, input_shape=(xtrain.shape[0],xtrain.shape[1],xtrain.shape[2]), activation='relu'))\n",
        "model.add(MaxPooling2D(pool_size=2))\n",
        "model.add(Dropout(0.2))\n",
        "\n",
        "model.add(Conv2D(filters=32, kernel_size=2, activation='relu'))\n",
        "model.add(MaxPooling2D(pool_size=2))\n",
        "model.add(Dropout(0.2))\n",
        "\n",
        "model.add(Conv2D(filters=64, kernel_size=2, activation='relu'))\n",
        "model.add(MaxPooling2D(pool_size=2))\n",
        "model.add(Dropout(0.2))\n",
        "\n",
        "model.add(Conv2D(filters=128, kernel_size=2, activation='relu'))\n",
        "model.add(MaxPooling2D(pool_size=2))\n",
        "model.add(Dropout(0.5))\n",
        "model.add(GlobalAveragePooling2D())\n",
        "\n",
        "model.add(Dense(len(encoder.classes_), activation='softmax'))\n",
        "model.summary()"
      ],
      "execution_count": 0,
      "outputs": [
        {
          "output_type": "stream",
          "text": [
            "Model: \"sequential_3\"\n",
            "_________________________________________________________________\n",
            "Layer (type)                 Output Shape              Param #   \n",
            "=================================================================\n",
            "conv2d_5 (Conv2D)            (None, 403, 49, 16)       11088     \n",
            "_________________________________________________________________\n",
            "max_pooling2d_5 (MaxPooling2 (None, 201, 24, 16)       0         \n",
            "_________________________________________________________________\n",
            "dropout_5 (Dropout)          (None, 201, 24, 16)       0         \n",
            "_________________________________________________________________\n",
            "conv2d_6 (Conv2D)            (None, 200, 23, 32)       2080      \n",
            "_________________________________________________________________\n",
            "max_pooling2d_6 (MaxPooling2 (None, 100, 11, 32)       0         \n",
            "_________________________________________________________________\n",
            "dropout_6 (Dropout)          (None, 100, 11, 32)       0         \n",
            "_________________________________________________________________\n",
            "conv2d_7 (Conv2D)            (None, 99, 10, 64)        8256      \n",
            "_________________________________________________________________\n",
            "max_pooling2d_7 (MaxPooling2 (None, 49, 5, 64)         0         \n",
            "_________________________________________________________________\n",
            "dropout_7 (Dropout)          (None, 49, 5, 64)         0         \n",
            "_________________________________________________________________\n",
            "conv2d_8 (Conv2D)            (None, 48, 4, 128)        32896     \n",
            "_________________________________________________________________\n",
            "max_pooling2d_8 (MaxPooling2 (None, 24, 2, 128)        0         \n",
            "_________________________________________________________________\n",
            "dropout_8 (Dropout)          (None, 24, 2, 128)        0         \n",
            "_________________________________________________________________\n",
            "global_average_pooling2d_2 ( (None, 128)               0         \n",
            "_________________________________________________________________\n",
            "dense_2 (Dense)              (None, 5)                 645       \n",
            "=================================================================\n",
            "Total params: 54,965\n",
            "Trainable params: 54,965\n",
            "Non-trainable params: 0\n",
            "_________________________________________________________________\n"
          ],
          "name": "stdout"
        }
      ]
    },
    {
      "cell_type": "code",
      "metadata": {
        "id": "SRQO8e_8GiVz",
        "colab_type": "code",
        "outputId": "b7c99bac-f106-4cb8-d55d-267a7ad7bf44",
        "colab": {
          "base_uri": "https://localhost:8080/",
          "height": 396
        }
      },
      "source": [
        "model.compile(loss='categorical_crossentropy', metrics=['accuracy'], optimizer='adam')\n",
        "\n",
        "history = model.fit(xtrain, ytrain,\n",
        "              batch_size=60,\n",
        "              epochs=400,\n",
        "              validation_data=(xtest, ytest),\n",
        "              shuffle=True\n",
        "            )"
      ],
      "execution_count": 0,
      "outputs": [
        {
          "output_type": "error",
          "ename": "ValueError",
          "evalue": "ignored",
          "traceback": [
            "\u001b[0;31m---------------------------------------------------------------------------\u001b[0m",
            "\u001b[0;31mValueError\u001b[0m                                Traceback (most recent call last)",
            "\u001b[0;32m<ipython-input-35-08daec752b6b>\u001b[0m in \u001b[0;36m<module>\u001b[0;34m()\u001b[0m\n\u001b[1;32m      5\u001b[0m               \u001b[0mepochs\u001b[0m\u001b[0;34m=\u001b[0m\u001b[0;36m400\u001b[0m\u001b[0;34m,\u001b[0m\u001b[0;34m\u001b[0m\u001b[0;34m\u001b[0m\u001b[0m\n\u001b[1;32m      6\u001b[0m               \u001b[0mvalidation_data\u001b[0m\u001b[0;34m=\u001b[0m\u001b[0;34m(\u001b[0m\u001b[0mxtest\u001b[0m\u001b[0;34m,\u001b[0m \u001b[0mytest\u001b[0m\u001b[0;34m)\u001b[0m\u001b[0;34m,\u001b[0m\u001b[0;34m\u001b[0m\u001b[0;34m\u001b[0m\u001b[0m\n\u001b[0;32m----> 7\u001b[0;31m               \u001b[0mshuffle\u001b[0m\u001b[0;34m=\u001b[0m\u001b[0;32mTrue\u001b[0m\u001b[0;34m\u001b[0m\u001b[0;34m\u001b[0m\u001b[0m\n\u001b[0m\u001b[1;32m      8\u001b[0m             )\n",
            "\u001b[0;32m/usr/local/lib/python3.6/dist-packages/keras/engine/training.py\u001b[0m in \u001b[0;36mfit\u001b[0;34m(self, x, y, batch_size, epochs, verbose, callbacks, validation_split, validation_data, shuffle, class_weight, sample_weight, initial_epoch, steps_per_epoch, validation_steps, validation_freq, max_queue_size, workers, use_multiprocessing, **kwargs)\u001b[0m\n\u001b[1;32m   1087\u001b[0m             \u001b[0msample_weight\u001b[0m\u001b[0;34m=\u001b[0m\u001b[0msample_weight\u001b[0m\u001b[0;34m,\u001b[0m\u001b[0;34m\u001b[0m\u001b[0;34m\u001b[0m\u001b[0m\n\u001b[1;32m   1088\u001b[0m             \u001b[0mclass_weight\u001b[0m\u001b[0;34m=\u001b[0m\u001b[0mclass_weight\u001b[0m\u001b[0;34m,\u001b[0m\u001b[0;34m\u001b[0m\u001b[0;34m\u001b[0m\u001b[0m\n\u001b[0;32m-> 1089\u001b[0;31m             batch_size=batch_size)\n\u001b[0m\u001b[1;32m   1090\u001b[0m \u001b[0;34m\u001b[0m\u001b[0m\n\u001b[1;32m   1091\u001b[0m         \u001b[0;31m# Prepare validation data.\u001b[0m\u001b[0;34m\u001b[0m\u001b[0;34m\u001b[0m\u001b[0;34m\u001b[0m\u001b[0m\n",
            "\u001b[0;32m/usr/local/lib/python3.6/dist-packages/keras/engine/training.py\u001b[0m in \u001b[0;36m_standardize_user_data\u001b[0;34m(self, x, y, sample_weight, class_weight, check_array_lengths, batch_size)\u001b[0m\n\u001b[1;32m    755\u001b[0m             \u001b[0mfeed_input_shapes\u001b[0m\u001b[0;34m,\u001b[0m\u001b[0;34m\u001b[0m\u001b[0;34m\u001b[0m\u001b[0m\n\u001b[1;32m    756\u001b[0m             \u001b[0mcheck_batch_axis\u001b[0m\u001b[0;34m=\u001b[0m\u001b[0;32mFalse\u001b[0m\u001b[0;34m,\u001b[0m  \u001b[0;31m# Don't enforce the batch size.\u001b[0m\u001b[0;34m\u001b[0m\u001b[0;34m\u001b[0m\u001b[0m\n\u001b[0;32m--> 757\u001b[0;31m             exception_prefix='input')\n\u001b[0m\u001b[1;32m    758\u001b[0m \u001b[0;34m\u001b[0m\u001b[0m\n\u001b[1;32m    759\u001b[0m         \u001b[0;32mif\u001b[0m \u001b[0my\u001b[0m \u001b[0;32mis\u001b[0m \u001b[0;32mnot\u001b[0m \u001b[0;32mNone\u001b[0m\u001b[0;34m:\u001b[0m\u001b[0;34m\u001b[0m\u001b[0;34m\u001b[0m\u001b[0m\n",
            "\u001b[0;32m/usr/local/lib/python3.6/dist-packages/keras/engine/training_utils.py\u001b[0m in \u001b[0;36mstandardize_input_data\u001b[0;34m(data, names, shapes, check_batch_axis, exception_prefix)\u001b[0m\n\u001b[1;32m    139\u001b[0m                             \u001b[0;34m': expected '\u001b[0m \u001b[0;34m+\u001b[0m \u001b[0mnames\u001b[0m\u001b[0;34m[\u001b[0m\u001b[0mi\u001b[0m\u001b[0;34m]\u001b[0m \u001b[0;34m+\u001b[0m \u001b[0;34m' to have shape '\u001b[0m \u001b[0;34m+\u001b[0m\u001b[0;34m\u001b[0m\u001b[0;34m\u001b[0m\u001b[0m\n\u001b[1;32m    140\u001b[0m                             \u001b[0mstr\u001b[0m\u001b[0;34m(\u001b[0m\u001b[0mshape\u001b[0m\u001b[0;34m)\u001b[0m \u001b[0;34m+\u001b[0m \u001b[0;34m' but got array with shape '\u001b[0m \u001b[0;34m+\u001b[0m\u001b[0;34m\u001b[0m\u001b[0;34m\u001b[0m\u001b[0m\n\u001b[0;32m--> 141\u001b[0;31m                             str(data_shape))\n\u001b[0m\u001b[1;32m    142\u001b[0m     \u001b[0;32mreturn\u001b[0m \u001b[0mdata\u001b[0m\u001b[0;34m\u001b[0m\u001b[0;34m\u001b[0m\u001b[0m\n\u001b[1;32m    143\u001b[0m \u001b[0;34m\u001b[0m\u001b[0m\n",
            "\u001b[0;31mValueError\u001b[0m: Error when checking input: expected conv2d_5_input to have shape (404, 50, 173) but got array with shape (50, 173, 1)"
          ]
        }
      ]
    },
    {
      "cell_type": "code",
      "metadata": {
        "id": "MH3wsZdbGywX",
        "colab_type": "code",
        "outputId": "a18ad568-65b4-434f-ccc0-0689fa53699b",
        "colab": {
          "base_uri": "https://localhost:8080/",
          "height": 68
        }
      },
      "source": [
        "scores = model.evaluate(xtest, ytest, verbose=1)\n",
        "print('Test loss:', scores[0])\n",
        "print('Test accuracy:', scores[1]*100)"
      ],
      "execution_count": 0,
      "outputs": [
        {
          "output_type": "stream",
          "text": [
            "81/81 [==============================] - 0s 3ms/step\n",
            "Test loss: 0.02641774733539349\n",
            "Test accuracy: 100.0\n"
          ],
          "name": "stdout"
        }
      ]
    },
    {
      "cell_type": "markdown",
      "metadata": {
        "id": "vHucHK5ETBNF",
        "colab_type": "text"
      },
      "source": [
        "**Accuracy is 97 percent and without using Validation model get accuracy of 95% on Test Data, so therefore 95% accuracy is fine for classification**"
      ]
    },
    {
      "cell_type": "code",
      "metadata": {
        "id": "Rm0IPXRbNkt3",
        "colab_type": "code",
        "outputId": "f3716e06-1ee3-4cb7-ea0c-dc10c65594ec",
        "colab": {
          "base_uri": "https://localhost:8080/",
          "height": 51
        }
      },
      "source": [
        "x = features('/content/drive/My Drive/Colab Notebooks/HEART DATA /heartbeat-sounds/set_a/murmur__201108222232.wav')\n",
        "x=x.reshape(1,x.shape[0],x.shape[1],1)\n",
        "predictions = model.predict(x)\n",
        "print(encoder.classes_)\n",
        "print(predictions)   "
      ],
      "execution_count": 0,
      "outputs": [
        {
          "output_type": "stream",
          "text": [
            "['artifact' 'extrahls' 'extrastole' 'murmur' 'normal']\n",
            "[[1.2688253e-13 1.5058859e-16 5.1938773e-14 1.0000000e+00 2.1008713e-10]]\n"
          ],
          "name": "stdout"
        }
      ]
    },
    {
      "cell_type": "code",
      "metadata": {
        "id": "fcbBgrCosWGq",
        "colab_type": "code",
        "outputId": "1f24cfac-52e9-424a-d227-bcdb2db703a3",
        "colab": {
          "base_uri": "https://localhost:8080/",
          "height": 51
        }
      },
      "source": [
        "x = features('/content/drive/My Drive/Colab Notebooks/HEART DATA /heartbeat-sounds/set_b/murmur_noisymurmur_135_1306428972976_A.wav')\n",
        "x=x.reshape(1,x.shape[0],x.shape[1],1)\n",
        "predictions = model.predict(x)\n",
        "print(encoder.classes_)\n",
        "print(predictions)  "
      ],
      "execution_count": 0,
      "outputs": [
        {
          "output_type": "stream",
          "text": [
            "['artifact' 'extrahls' 'extrastole' 'murmur' 'normal']\n",
            "[[1.7529317e-08 2.9144104e-10 3.6917226e-03 9.9478662e-01 1.5216517e-03]]\n"
          ],
          "name": "stdout"
        }
      ]
    },
    {
      "cell_type": "code",
      "metadata": {
        "id": "XLnGjdVi6nJC",
        "colab_type": "code",
        "outputId": "57e31fb5-5419-474e-97b7-1558c27993fc",
        "colab": {
          "base_uri": "https://localhost:8080/",
          "height": 51
        }
      },
      "source": [
        "x = features('/content/drive/My Drive/Colab Notebooks/HEART DATA /heartbeat-sounds/set_b/normal__107_1305654946865_C1.wav')\n",
        "x=x.reshape(1,x.shape[0],x.shape[1],1)\n",
        "predictions = model.predict_proba(x)\n",
        "print(encoder.classes_)\n",
        "print(predictions)  "
      ],
      "execution_count": 0,
      "outputs": [
        {
          "output_type": "stream",
          "text": [
            "['artifact' 'extrahls' 'extrastole' 'murmur' 'normal']\n",
            "[[1.0826898e-07 2.0753018e-06 1.1485045e-01 6.2640705e-03 8.7888330e-01]]\n"
          ],
          "name": "stdout"
        }
      ]
    },
    {
      "cell_type": "markdown",
      "metadata": {
        "id": "5m1GWQTwcK5z",
        "colab_type": "text"
      },
      "source": [
        "**CHECKING OVERFITTING**"
      ]
    },
    {
      "cell_type": "code",
      "metadata": {
        "id": "NFSVIMwNnANr",
        "colab_type": "code",
        "outputId": "ebbeabcf-8dc3-454c-b809-3844d8600638",
        "colab": {
          "base_uri": "https://localhost:8080/",
          "height": 545
        }
      },
      "source": [
        "import matplotlib.pyplot as plt\n",
        "acc = history.history['acc']\n",
        "val_acc = history.history['val_acc']\n",
        "loss = history.history['loss']\n",
        "val_loss = history.history['val_loss']\n",
        "epochs = range(1, len(acc) + 1)\n",
        "plt.plot(epochs, acc, 'bo', color='red',label='Training acc')\n",
        "plt.plot(epochs, val_acc, 'b',color='blue', label='Validation acc')\n",
        "plt.title('Training and validation accuracy')\n",
        "plt.legend()\n",
        "plt.figure()\n",
        "plt.plot(epochs, loss, 'bo',color='red', label='Training loss')\n",
        "plt.plot(epochs, val_loss, 'b',color='blue', label='Validation loss')\n",
        "plt.title('Training and validation loss')\n",
        "plt.legend()\n",
        "plt.show()"
      ],
      "execution_count": 0,
      "outputs": [
        {
          "output_type": "display_data",
          "data": {
            "image/png": "[encoded data removed]",
            "text/plain": [
              "<Figure size 432x288 with 1 Axes>"
            ]
          },
          "metadata": {
            "tags": []
          }
        },
        {
          "output_type": "display_data",
          "data": {
            "image/png": "[encoded data removed]",
            "text/plain": [
              "<Figure size 432x288 with 1 Axes>"
            ]
          },
          "metadata": {
            "tags": []
          }
        }
      ]
    },
    {
      "cell_type": "code",
      "metadata": {
        "id": "z2mSaDeVDYjh",
        "colab_type": "code",
        "outputId": "58829c99-4ad8-4d6b-d77b-ed0816f83c64",
        "colab": {
          "base_uri": "https://localhost:8080/",
          "height": 244
        }
      },
      "source": [
        "predIdxs = model.predict(xtest, batch_size=60)\n",
        "predIdxs = np.argmax(predIdxs, axis=1)\n",
        "\n",
        "# show a nicely formatted classification report\n",
        "print(classification_report(ytest.argmax(axis=1), predIdxs,\n",
        "\ttarget_names=encoder.classes_))\n",
        "\n",
        "# compute the confusion matrix and and use it to derive the raw\n",
        "# accuracy, sensitivity, and specificity\n",
        "cm = confusion_matrix(testY.argmax(axis=1), predIdxs)\n",
        "total = sum(sum(cm))\n",
        "acc = (cm[0, 0] + cm[1, 1]) / total\n",
        "sensitivity = cm[0, 0] / (cm[0, 0] + cm[0, 1])\n",
        "specificity = cm[1, 1] / (cm[1, 0] + cm[1, 1])"
      ],
      "execution_count": 0,
      "outputs": [
        {
          "output_type": "error",
          "ename": "NameError",
          "evalue": "ignored",
          "traceback": [
            "\u001b[0;31m---------------------------------------------------------------------------\u001b[0m",
            "\u001b[0;31mNameError\u001b[0m                                 Traceback (most recent call last)",
            "\u001b[0;32m<ipython-input-1-4e23bf885695>\u001b[0m in \u001b[0;36m<module>\u001b[0;34m()\u001b[0m\n\u001b[0;32m----> 1\u001b[0;31m \u001b[0mpredIdxs\u001b[0m \u001b[0;34m=\u001b[0m \u001b[0mmodel\u001b[0m\u001b[0;34m.\u001b[0m\u001b[0mpredict\u001b[0m\u001b[0;34m(\u001b[0m\u001b[0mxtest\u001b[0m\u001b[0;34m,\u001b[0m \u001b[0mbatch_size\u001b[0m\u001b[0;34m=\u001b[0m\u001b[0;36m60\u001b[0m\u001b[0;34m)\u001b[0m\u001b[0;34m\u001b[0m\u001b[0;34m\u001b[0m\u001b[0m\n\u001b[0m\u001b[1;32m      2\u001b[0m \u001b[0mpredIdxs\u001b[0m \u001b[0;34m=\u001b[0m \u001b[0mnp\u001b[0m\u001b[0;34m.\u001b[0m\u001b[0margmax\u001b[0m\u001b[0;34m(\u001b[0m\u001b[0mpredIdxs\u001b[0m\u001b[0;34m,\u001b[0m \u001b[0maxis\u001b[0m\u001b[0;34m=\u001b[0m\u001b[0;36m1\u001b[0m\u001b[0;34m)\u001b[0m\u001b[0;34m\u001b[0m\u001b[0;34m\u001b[0m\u001b[0m\n\u001b[1;32m      3\u001b[0m \u001b[0;34m\u001b[0m\u001b[0m\n\u001b[1;32m      4\u001b[0m \u001b[0;31m# show a nicely formatted classification report\u001b[0m\u001b[0;34m\u001b[0m\u001b[0;34m\u001b[0m\u001b[0;34m\u001b[0m\u001b[0m\n\u001b[1;32m      5\u001b[0m print(classification_report(ytest.argmax(axis=1), predIdxs,\n",
            "\u001b[0;31mNameError\u001b[0m: name 'model' is not defined"
          ]
        }
      ]
    },
    {
      "cell_type": "code",
      "metadata": {
        "id": "fGHYAQC_lKoR",
        "colab_type": "code",
        "colab": {}
      },
      "source": [
        ""
      ],
      "execution_count": 0,
      "outputs": []
    }
  ]
}